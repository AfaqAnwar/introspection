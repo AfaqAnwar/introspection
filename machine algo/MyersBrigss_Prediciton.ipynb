{
 "cells": [
  {
   "cell_type": "code",
   "execution_count": null,
   "metadata": {},
   "outputs": [],
   "source": [
    "\"\"\"\n",
    "Steps for this project\n",
    "1. dataset\n",
    "2. date preprocessing \n",
    "a. add new columns (I/E, I/S, F/T, P/J) \n",
    "b. removal of unesscary data point\n",
    "b1. url links removed\n",
    "b2. remove stopwords\n",
    "b3. lemmatization\n",
    "b4. tokenization using keras word tokenizer\n",
    "3. data training\n",
    "4. classfication [tensorflow]\n",
    "\n",
    "using the recurrent neural networks and support vector machine\n",
    "    \n",
    "\"\"\""
   ]
  },
  {
   "cell_type": "code",
   "execution_count": 1,
   "metadata": {},
   "outputs": [
    {
     "name": "stderr",
     "output_type": "stream",
     "text": [
      "[nltk_data] Downloading package wordnet to /Users/sanzi/nltk_data...\n",
      "[nltk_data]   Package wordnet is already up-to-date!\n"
     ]
    }
   ],
   "source": [
    "import pandas as pd\n",
    "import re\n",
    "\n",
    "# removal of stopwords\n",
    "import nltk\n",
    "from nltk.corpus import stopwords\n",
    "from nltk.tokenize import word_tokenize\n",
    "\n",
    "# Lemmatization\n",
    "from nltk.stem import WordNetLemmatizer\n",
    "lemmatizer = WordNetLemmatizer()\n",
    "nltk.download('wordnet')\n",
    "\n",
    "# Count Vectorizer\n",
    "import sklearn\n",
    "from sklearn import metrics\n",
    "from sklearn.model_selection import train_test_split\n",
    "import numpy as np\n",
    "from sklearn.feature_extraction.text import CountVectorizer,TfidfTransformer\n",
    "\n",
    "# Machine Learning Models \n",
    "from sklearn.svm import SVC\n",
    "\n"
   ]
  },
  {
   "cell_type": "code",
   "execution_count": 2,
   "metadata": {},
   "outputs": [],
   "source": [
    "# open csv file\n",
    "myersBrigs_df = pd.read_csv(\"/Users/sanzi/Desktop/school/personality dating app/mbti_1.csv\")"
   ]
  },
  {
   "cell_type": "code",
   "execution_count": 3,
   "metadata": {},
   "outputs": [
    {
     "data": {
      "text/html": [
       "<div>\n",
       "<style scoped>\n",
       "    .dataframe tbody tr th:only-of-type {\n",
       "        vertical-align: middle;\n",
       "    }\n",
       "\n",
       "    .dataframe tbody tr th {\n",
       "        vertical-align: top;\n",
       "    }\n",
       "\n",
       "    .dataframe thead th {\n",
       "        text-align: right;\n",
       "    }\n",
       "</style>\n",
       "<table border=\"1\" class=\"dataframe\">\n",
       "  <thead>\n",
       "    <tr style=\"text-align: right;\">\n",
       "      <th></th>\n",
       "      <th>type</th>\n",
       "      <th>posts</th>\n",
       "    </tr>\n",
       "  </thead>\n",
       "  <tbody>\n",
       "    <tr>\n",
       "      <th>0</th>\n",
       "      <td>INFJ</td>\n",
       "      <td>'http://www.youtube.com/watch?v=qsXHcwe3krw|||...</td>\n",
       "    </tr>\n",
       "    <tr>\n",
       "      <th>1</th>\n",
       "      <td>ENTP</td>\n",
       "      <td>'I'm finding the lack of me in these posts ver...</td>\n",
       "    </tr>\n",
       "    <tr>\n",
       "      <th>2</th>\n",
       "      <td>INTP</td>\n",
       "      <td>'Good one  _____   https://www.youtube.com/wat...</td>\n",
       "    </tr>\n",
       "    <tr>\n",
       "      <th>3</th>\n",
       "      <td>INTJ</td>\n",
       "      <td>'Dear INTP,   I enjoyed our conversation the o...</td>\n",
       "    </tr>\n",
       "    <tr>\n",
       "      <th>4</th>\n",
       "      <td>ENTJ</td>\n",
       "      <td>'You're fired.|||That's another silly misconce...</td>\n",
       "    </tr>\n",
       "    <tr>\n",
       "      <th>...</th>\n",
       "      <td>...</td>\n",
       "      <td>...</td>\n",
       "    </tr>\n",
       "    <tr>\n",
       "      <th>8670</th>\n",
       "      <td>ISFP</td>\n",
       "      <td>'https://www.youtube.com/watch?v=t8edHB_h908||...</td>\n",
       "    </tr>\n",
       "    <tr>\n",
       "      <th>8671</th>\n",
       "      <td>ENFP</td>\n",
       "      <td>'So...if this thread already exists someplace ...</td>\n",
       "    </tr>\n",
       "    <tr>\n",
       "      <th>8672</th>\n",
       "      <td>INTP</td>\n",
       "      <td>'So many questions when i do these things.  I ...</td>\n",
       "    </tr>\n",
       "    <tr>\n",
       "      <th>8673</th>\n",
       "      <td>INFP</td>\n",
       "      <td>'I am very conflicted right now when it comes ...</td>\n",
       "    </tr>\n",
       "    <tr>\n",
       "      <th>8674</th>\n",
       "      <td>INFP</td>\n",
       "      <td>'It has been too long since I have been on per...</td>\n",
       "    </tr>\n",
       "  </tbody>\n",
       "</table>\n",
       "<p>8675 rows × 2 columns</p>\n",
       "</div>"
      ],
      "text/plain": [
       "      type                                              posts\n",
       "0     INFJ  'http://www.youtube.com/watch?v=qsXHcwe3krw|||...\n",
       "1     ENTP  'I'm finding the lack of me in these posts ver...\n",
       "2     INTP  'Good one  _____   https://www.youtube.com/wat...\n",
       "3     INTJ  'Dear INTP,   I enjoyed our conversation the o...\n",
       "4     ENTJ  'You're fired.|||That's another silly misconce...\n",
       "...    ...                                                ...\n",
       "8670  ISFP  'https://www.youtube.com/watch?v=t8edHB_h908||...\n",
       "8671  ENFP  'So...if this thread already exists someplace ...\n",
       "8672  INTP  'So many questions when i do these things.  I ...\n",
       "8673  INFP  'I am very conflicted right now when it comes ...\n",
       "8674  INFP  'It has been too long since I have been on per...\n",
       "\n",
       "[8675 rows x 2 columns]"
      ]
     },
     "execution_count": 3,
     "metadata": {},
     "output_type": "execute_result"
    }
   ],
   "source": [
    "myersBrigs_df"
   ]
  },
  {
   "attachments": {},
   "cell_type": "markdown",
   "metadata": {},
   "source": [
    "## Data Preprocessing "
   ]
  },
  {
   "cell_type": "code",
   "execution_count": 4,
   "metadata": {},
   "outputs": [],
   "source": [
    "# Add 4 new columns for the following\n",
    "# First Column: Introvert / Extrovert \n",
    "# Second Column: Intution / Sensation\n",
    "# Third Column: Thinking / Feeling\n",
    "# Fourth Column: Perception / Judgement \n",
    "\n",
    "# Create a matrix column that classifiers how many 1 or 0 there are for each columns\n",
    "def PersonailityColumns_helper(matrixList, columnIndiciator, personailityList, matrixIndicator):\n",
    "    \n",
    "    index = 0\n",
    "    # Loop through each value in the personaliltyList \n",
    "    for word in personailityList:\n",
    "        # For each character in the personaility type word\n",
    "        if word[matrixIndicator] == columnIndiciator:\n",
    "            matrixList[index] = 1\n",
    "        # else if the character does not match the one we are looking for set it as 0\n",
    "        else:\n",
    "            matrixList[index] = 0\n",
    "\n",
    "        # increment index by 1\n",
    "        index += 1\n",
    "    # return the matrix list\n",
    "    return matrixList\n",
    "        \n",
    "\n",
    "# Add the personailty column to the dataframe\n",
    "def PersonailtyColumns(dataframe):\n",
    "    \n",
    "    E_I = np.zeros(myersBrigs_df.shape[0])\n",
    "    I_S = np.zeros(myersBrigs_df.shape[0])\n",
    "    T_F = np.zeros(myersBrigs_df.shape[0])\n",
    "    P_J = np.zeros(myersBrigs_df.shape[0])\n",
    "    \n",
    "    personailityType_list = list(myersBrigs_df[\"type\"])\n",
    "    \n",
    "    E_I = PersonailityColumns_helper(E_I, \"E\", personailityType_list, 0)\n",
    "    I_S = PersonailityColumns_helper(I_S, \"S\", personailityType_list, 1)\n",
    "    T_F = PersonailityColumns_helper(T_F, \"F\", personailityType_list, 2)\n",
    "    P_J = PersonailityColumns_helper(P_J, \"J\", personailityType_list, 3)\n",
    "    \n",
    "    # If they are an extrovert value in this column is a 1\n",
    "    myersBrigs_df.insert(2, \"Extrovert/Introvert\", E_I, True)\n",
    "    \n",
    "    # If they are an sensational value in this column is a 1\n",
    "    myersBrigs_df.insert(3, \"Intution/Sensation\", I_S, True)\n",
    "\n",
    "    # If they are an feeling value in this column is a 1\n",
    "    myersBrigs_df.insert(4, \"Thinking/Feeling\", T_F, True)\n",
    "    \n",
    "    # If they are an judgement value in this column is a 1\n",
    "    myersBrigs_df.insert(5, \"Perception/Judgement\", P_J, True)\n",
    "\n",
    "# Add these columns to the dataframe\n",
    "PersonailtyColumns(myersBrigs_df)"
   ]
  },
  {
   "cell_type": "code",
   "execution_count": 5,
   "metadata": {},
   "outputs": [
    {
     "data": {
      "text/html": [
       "<div>\n",
       "<style scoped>\n",
       "    .dataframe tbody tr th:only-of-type {\n",
       "        vertical-align: middle;\n",
       "    }\n",
       "\n",
       "    .dataframe tbody tr th {\n",
       "        vertical-align: top;\n",
       "    }\n",
       "\n",
       "    .dataframe thead th {\n",
       "        text-align: right;\n",
       "    }\n",
       "</style>\n",
       "<table border=\"1\" class=\"dataframe\">\n",
       "  <thead>\n",
       "    <tr style=\"text-align: right;\">\n",
       "      <th></th>\n",
       "      <th>type</th>\n",
       "      <th>posts</th>\n",
       "      <th>Extrovert/Introvert</th>\n",
       "      <th>Intution/Sensation</th>\n",
       "      <th>Thinking/Feeling</th>\n",
       "      <th>Perception/Judgement</th>\n",
       "    </tr>\n",
       "  </thead>\n",
       "  <tbody>\n",
       "    <tr>\n",
       "      <th>0</th>\n",
       "      <td>INFJ</td>\n",
       "      <td>'http://www.youtube.com/watch?v=qsXHcwe3krw|||...</td>\n",
       "      <td>0.0</td>\n",
       "      <td>0.0</td>\n",
       "      <td>1.0</td>\n",
       "      <td>1.0</td>\n",
       "    </tr>\n",
       "    <tr>\n",
       "      <th>1</th>\n",
       "      <td>ENTP</td>\n",
       "      <td>'I'm finding the lack of me in these posts ver...</td>\n",
       "      <td>1.0</td>\n",
       "      <td>0.0</td>\n",
       "      <td>0.0</td>\n",
       "      <td>0.0</td>\n",
       "    </tr>\n",
       "    <tr>\n",
       "      <th>2</th>\n",
       "      <td>INTP</td>\n",
       "      <td>'Good one  _____   https://www.youtube.com/wat...</td>\n",
       "      <td>0.0</td>\n",
       "      <td>0.0</td>\n",
       "      <td>0.0</td>\n",
       "      <td>0.0</td>\n",
       "    </tr>\n",
       "    <tr>\n",
       "      <th>3</th>\n",
       "      <td>INTJ</td>\n",
       "      <td>'Dear INTP,   I enjoyed our conversation the o...</td>\n",
       "      <td>0.0</td>\n",
       "      <td>0.0</td>\n",
       "      <td>0.0</td>\n",
       "      <td>1.0</td>\n",
       "    </tr>\n",
       "    <tr>\n",
       "      <th>4</th>\n",
       "      <td>ENTJ</td>\n",
       "      <td>'You're fired.|||That's another silly misconce...</td>\n",
       "      <td>1.0</td>\n",
       "      <td>0.0</td>\n",
       "      <td>0.0</td>\n",
       "      <td>1.0</td>\n",
       "    </tr>\n",
       "    <tr>\n",
       "      <th>...</th>\n",
       "      <td>...</td>\n",
       "      <td>...</td>\n",
       "      <td>...</td>\n",
       "      <td>...</td>\n",
       "      <td>...</td>\n",
       "      <td>...</td>\n",
       "    </tr>\n",
       "    <tr>\n",
       "      <th>8670</th>\n",
       "      <td>ISFP</td>\n",
       "      <td>'https://www.youtube.com/watch?v=t8edHB_h908||...</td>\n",
       "      <td>0.0</td>\n",
       "      <td>1.0</td>\n",
       "      <td>1.0</td>\n",
       "      <td>0.0</td>\n",
       "    </tr>\n",
       "    <tr>\n",
       "      <th>8671</th>\n",
       "      <td>ENFP</td>\n",
       "      <td>'So...if this thread already exists someplace ...</td>\n",
       "      <td>1.0</td>\n",
       "      <td>0.0</td>\n",
       "      <td>1.0</td>\n",
       "      <td>0.0</td>\n",
       "    </tr>\n",
       "    <tr>\n",
       "      <th>8672</th>\n",
       "      <td>INTP</td>\n",
       "      <td>'So many questions when i do these things.  I ...</td>\n",
       "      <td>0.0</td>\n",
       "      <td>0.0</td>\n",
       "      <td>0.0</td>\n",
       "      <td>0.0</td>\n",
       "    </tr>\n",
       "    <tr>\n",
       "      <th>8673</th>\n",
       "      <td>INFP</td>\n",
       "      <td>'I am very conflicted right now when it comes ...</td>\n",
       "      <td>0.0</td>\n",
       "      <td>0.0</td>\n",
       "      <td>1.0</td>\n",
       "      <td>0.0</td>\n",
       "    </tr>\n",
       "    <tr>\n",
       "      <th>8674</th>\n",
       "      <td>INFP</td>\n",
       "      <td>'It has been too long since I have been on per...</td>\n",
       "      <td>0.0</td>\n",
       "      <td>0.0</td>\n",
       "      <td>1.0</td>\n",
       "      <td>0.0</td>\n",
       "    </tr>\n",
       "  </tbody>\n",
       "</table>\n",
       "<p>8675 rows × 6 columns</p>\n",
       "</div>"
      ],
      "text/plain": [
       "      type                                              posts  \\\n",
       "0     INFJ  'http://www.youtube.com/watch?v=qsXHcwe3krw|||...   \n",
       "1     ENTP  'I'm finding the lack of me in these posts ver...   \n",
       "2     INTP  'Good one  _____   https://www.youtube.com/wat...   \n",
       "3     INTJ  'Dear INTP,   I enjoyed our conversation the o...   \n",
       "4     ENTJ  'You're fired.|||That's another silly misconce...   \n",
       "...    ...                                                ...   \n",
       "8670  ISFP  'https://www.youtube.com/watch?v=t8edHB_h908||...   \n",
       "8671  ENFP  'So...if this thread already exists someplace ...   \n",
       "8672  INTP  'So many questions when i do these things.  I ...   \n",
       "8673  INFP  'I am very conflicted right now when it comes ...   \n",
       "8674  INFP  'It has been too long since I have been on per...   \n",
       "\n",
       "      Extrovert/Introvert  Intution/Sensation  Thinking/Feeling  \\\n",
       "0                     0.0                 0.0               1.0   \n",
       "1                     1.0                 0.0               0.0   \n",
       "2                     0.0                 0.0               0.0   \n",
       "3                     0.0                 0.0               0.0   \n",
       "4                     1.0                 0.0               0.0   \n",
       "...                   ...                 ...               ...   \n",
       "8670                  0.0                 1.0               1.0   \n",
       "8671                  1.0                 0.0               1.0   \n",
       "8672                  0.0                 0.0               0.0   \n",
       "8673                  0.0                 0.0               1.0   \n",
       "8674                  0.0                 0.0               1.0   \n",
       "\n",
       "      Perception/Judgement  \n",
       "0                      1.0  \n",
       "1                      0.0  \n",
       "2                      0.0  \n",
       "3                      1.0  \n",
       "4                      1.0  \n",
       "...                    ...  \n",
       "8670                   0.0  \n",
       "8671                   0.0  \n",
       "8672                   0.0  \n",
       "8673                   0.0  \n",
       "8674                   0.0  \n",
       "\n",
       "[8675 rows x 6 columns]"
      ]
     },
     "execution_count": 5,
     "metadata": {},
     "output_type": "execute_result"
    }
   ],
   "source": [
    "myersBrigs_df"
   ]
  },
  {
   "cell_type": "code",
   "execution_count": 6,
   "metadata": {},
   "outputs": [],
   "source": [
    "myersBrigs_df[\"processed posts\"] = myersBrigs_df[\"posts\"].str.lower()"
   ]
  },
  {
   "cell_type": "code",
   "execution_count": 7,
   "metadata": {},
   "outputs": [],
   "source": [
    "\"\"\"\n",
    "remove unneccasry infomation from the posts at each index:\n",
    "  - stopwords\n",
    "  - url links\n",
    "  - special characters and numbers\n",
    "  - user that have the 16 personlity type in their text\n",
    "  - spaces\n",
    "\"\"\"\n",
    "def RemovalUrl():\n",
    "  \n",
    "  # all the patterns we would like to find and remove\n",
    "  pattern1 = re.compile(r' http://\\S+|https://\\S+')\n",
    "  pattern2 = re.compile(r'http[s]?://\\S+')\n",
    "  pattern3 = re.compile(r\"http\\S+\")\n",
    "  \n",
    "  # loop through the dataframe by getting the shape of the dataframe, the number or rows and columns\n",
    "  for i in range(myersBrigs_df.shape[0]):\n",
    "    \n",
    "    # get the post text at the selected index\n",
    "    text = myersBrigs_df._get_value(i, 'processed posts')\n",
    "    #print(pre_text)\n",
    "    \n",
    "    # find the string that matches the pattern and replace with an empty string\n",
    "    post_text = re.sub(pattern1, ' ', text)\n",
    "    post_text = re.sub(pattern2, ' ', text)\n",
    "    post_text = re.sub(pattern3, ' ', text)\n",
    "    \n",
    "    # set the post text to the processed post column\n",
    "    myersBrigs_df._set_value(i, 'processed posts', post_text)"
   ]
  },
  {
   "cell_type": "code",
   "execution_count": 8,
   "metadata": {},
   "outputs": [],
   "source": [
    "def RemvoalSpecial():\n",
    "  pattern3 = re.compile('\\W+')\n",
    "  pattern4 = re.compile(r'[0-9]')\n",
    "  pattern5 = re.compile(r'[_+]')\n",
    "  pattern6 = re.compile('\\s+')\n",
    "  \n",
    "  # loop through the dataframe by getting the shape of the dataframe, the number or rows and columns\n",
    "  for i in range(myersBrigs_df.shape[0]):\n",
    "    \n",
    "    # get the post text at the selected index\n",
    "    pre_text2 = myersBrigs_df._get_value(i, 'processed posts')\n",
    "    \n",
    "    # find the string that matches the pattern and replace with an empty string\n",
    "    post_text2 = re.sub(pattern3, ' ', pre_text2)\n",
    "    post_text2 = re.sub(pattern4, ' ', post_text2)\n",
    "    post_text2 = re.sub(pattern5, ' ', post_text2)\n",
    "    post_text2 = re.sub(pattern6, ' ', post_text2)\n",
    "    \n",
    "    # set the post text to the processed post column\n",
    "    myersBrigs_df._set_value(i, 'processed posts', post_text2)"
   ]
  },
  {
   "cell_type": "code",
   "execution_count": 9,
   "metadata": {},
   "outputs": [],
   "source": [
    "def RemovalStopWords():\n",
    "  stopwordsList = stopwords.words('english')\n",
    "  # removal of the stop words\n",
    "  for i in range(myersBrigs_df.shape[0]):\n",
    "    post_text_with_stopwords = myersBrigs_df._get_value(i, 'processed posts')\n",
    "    post_text_without_stopwords = \" \".join([w for w in post_text_with_stopwords.split(' ') if w not in stopwordsList])\n",
    "    myersBrigs_df._set_value(i, \"processed posts\", post_text_without_stopwords)"
   ]
  },
  {
   "cell_type": "code",
   "execution_count": 10,
   "metadata": {},
   "outputs": [],
   "source": [
    "def RemovalPersonalilty():\n",
    "  pattern7 = ['infp', 'infj', 'intp', 'intj', \n",
    "              'entp', 'enfp', 'istp', 'isfp',\n",
    "              'entj', 'istj', 'enfj', 'isfj',\n",
    "              'estp', 'esfp', 'esfj', 'estj']\n",
    "  \n",
    "  # removal of the 16 personality types from the texts\n",
    "  for i in range(myersBrigs_df.shape[0]):\n",
    "    text = myersBrigs_df._get_value(i, \"processed posts\")\n",
    "    updated_text = \" \".join([words for words in text.split(' ') if words not in pattern7])\n",
    "    myersBrigs_df._set_value(i, \"processed posts\", updated_text)"
   ]
  },
  {
   "cell_type": "code",
   "execution_count": 11,
   "metadata": {},
   "outputs": [],
   "source": [
    "def Lemmatization():\n",
    "  for i in range(myersBrigs_df.shape[0]):\n",
    "    text = myersBrigs_df._get_value(i, 'processed posts')\n",
    "    lemmatized_text = \" \".join([lemmatizer.lemmatize(w) for w in text.split(' ')])\n",
    "    myersBrigs_df._set_value(i, 'processed posts', lemmatized_text)"
   ]
  },
  {
   "cell_type": "code",
   "execution_count": 12,
   "metadata": {},
   "outputs": [],
   "source": [
    "def dataPreprocessing():\n",
    "    RemovalUrl()\n",
    "    RemvoalSpecial()\n",
    "    RemovalStopWords()\n",
    "    RemovalPersonalilty()\n",
    "    Lemmatization()\n",
    "    "
   ]
  },
  {
   "cell_type": "code",
   "execution_count": 13,
   "metadata": {},
   "outputs": [],
   "source": [
    "dataPreprocessing()"
   ]
  },
  {
   "cell_type": "code",
   "execution_count": 14,
   "metadata": {},
   "outputs": [
    {
     "data": {
      "text/html": [
       "<div>\n",
       "<style scoped>\n",
       "    .dataframe tbody tr th:only-of-type {\n",
       "        vertical-align: middle;\n",
       "    }\n",
       "\n",
       "    .dataframe tbody tr th {\n",
       "        vertical-align: top;\n",
       "    }\n",
       "\n",
       "    .dataframe thead th {\n",
       "        text-align: right;\n",
       "    }\n",
       "</style>\n",
       "<table border=\"1\" class=\"dataframe\">\n",
       "  <thead>\n",
       "    <tr style=\"text-align: right;\">\n",
       "      <th></th>\n",
       "      <th>type</th>\n",
       "      <th>posts</th>\n",
       "      <th>Extrovert/Introvert</th>\n",
       "      <th>Intution/Sensation</th>\n",
       "      <th>Thinking/Feeling</th>\n",
       "      <th>Perception/Judgement</th>\n",
       "      <th>processed posts</th>\n",
       "    </tr>\n",
       "  </thead>\n",
       "  <tbody>\n",
       "    <tr>\n",
       "      <th>0</th>\n",
       "      <td>INFJ</td>\n",
       "      <td>'http://www.youtube.com/watch?v=qsXHcwe3krw|||...</td>\n",
       "      <td>0.0</td>\n",
       "      <td>0.0</td>\n",
       "      <td>1.0</td>\n",
       "      <td>1.0</td>\n",
       "      <td>moment sportscenter top ten play prank life c...</td>\n",
       "    </tr>\n",
       "    <tr>\n",
       "      <th>1</th>\n",
       "      <td>ENTP</td>\n",
       "      <td>'I'm finding the lack of me in these posts ver...</td>\n",
       "      <td>1.0</td>\n",
       "      <td>0.0</td>\n",
       "      <td>0.0</td>\n",
       "      <td>0.0</td>\n",
       "      <td>finding lack post alarming sex boring positio...</td>\n",
       "    </tr>\n",
       "    <tr>\n",
       "      <th>2</th>\n",
       "      <td>INTP</td>\n",
       "      <td>'Good one  _____   https://www.youtube.com/wat...</td>\n",
       "      <td>0.0</td>\n",
       "      <td>0.0</td>\n",
       "      <td>0.0</td>\n",
       "      <td>0.0</td>\n",
       "      <td>good one course say know blessing curse absol...</td>\n",
       "    </tr>\n",
       "    <tr>\n",
       "      <th>3</th>\n",
       "      <td>INTJ</td>\n",
       "      <td>'Dear INTP,   I enjoyed our conversation the o...</td>\n",
       "      <td>0.0</td>\n",
       "      <td>0.0</td>\n",
       "      <td>0.0</td>\n",
       "      <td>1.0</td>\n",
       "      <td>dear enjoyed conversation day esoteric gabbin...</td>\n",
       "    </tr>\n",
       "    <tr>\n",
       "      <th>4</th>\n",
       "      <td>ENTJ</td>\n",
       "      <td>'You're fired.|||That's another silly misconce...</td>\n",
       "      <td>1.0</td>\n",
       "      <td>0.0</td>\n",
       "      <td>0.0</td>\n",
       "      <td>1.0</td>\n",
       "      <td>fired another silly misconception approaching...</td>\n",
       "    </tr>\n",
       "    <tr>\n",
       "      <th>...</th>\n",
       "      <td>...</td>\n",
       "      <td>...</td>\n",
       "      <td>...</td>\n",
       "      <td>...</td>\n",
       "      <td>...</td>\n",
       "      <td>...</td>\n",
       "      <td>...</td>\n",
       "    </tr>\n",
       "    <tr>\n",
       "      <th>8670</th>\n",
       "      <td>ISFP</td>\n",
       "      <td>'https://www.youtube.com/watch?v=t8edHB_h908||...</td>\n",
       "      <td>0.0</td>\n",
       "      <td>1.0</td>\n",
       "      <td>1.0</td>\n",
       "      <td>0.0</td>\n",
       "      <td>always think cat fi doms reason website becom...</td>\n",
       "    </tr>\n",
       "    <tr>\n",
       "      <th>8671</th>\n",
       "      <td>ENFP</td>\n",
       "      <td>'So...if this thread already exists someplace ...</td>\n",
       "      <td>1.0</td>\n",
       "      <td>0.0</td>\n",
       "      <td>1.0</td>\n",
       "      <td>0.0</td>\n",
       "      <td>thread already exists someplace else heck del...</td>\n",
       "    </tr>\n",
       "    <tr>\n",
       "      <th>8672</th>\n",
       "      <td>INTP</td>\n",
       "      <td>'So many questions when i do these things.  I ...</td>\n",
       "      <td>0.0</td>\n",
       "      <td>0.0</td>\n",
       "      <td>0.0</td>\n",
       "      <td>0.0</td>\n",
       "      <td>many question thing would take purple pill pi...</td>\n",
       "    </tr>\n",
       "    <tr>\n",
       "      <th>8673</th>\n",
       "      <td>INFP</td>\n",
       "      <td>'I am very conflicted right now when it comes ...</td>\n",
       "      <td>0.0</td>\n",
       "      <td>0.0</td>\n",
       "      <td>1.0</td>\n",
       "      <td>0.0</td>\n",
       "      <td>conflicted right come wanting child honestly ...</td>\n",
       "    </tr>\n",
       "    <tr>\n",
       "      <th>8674</th>\n",
       "      <td>INFP</td>\n",
       "      <td>'It has been too long since I have been on per...</td>\n",
       "      <td>0.0</td>\n",
       "      <td>0.0</td>\n",
       "      <td>1.0</td>\n",
       "      <td>0.0</td>\n",
       "      <td>long since personalitycafe although seem chan...</td>\n",
       "    </tr>\n",
       "  </tbody>\n",
       "</table>\n",
       "<p>8675 rows × 7 columns</p>\n",
       "</div>"
      ],
      "text/plain": [
       "      type                                              posts  \\\n",
       "0     INFJ  'http://www.youtube.com/watch?v=qsXHcwe3krw|||...   \n",
       "1     ENTP  'I'm finding the lack of me in these posts ver...   \n",
       "2     INTP  'Good one  _____   https://www.youtube.com/wat...   \n",
       "3     INTJ  'Dear INTP,   I enjoyed our conversation the o...   \n",
       "4     ENTJ  'You're fired.|||That's another silly misconce...   \n",
       "...    ...                                                ...   \n",
       "8670  ISFP  'https://www.youtube.com/watch?v=t8edHB_h908||...   \n",
       "8671  ENFP  'So...if this thread already exists someplace ...   \n",
       "8672  INTP  'So many questions when i do these things.  I ...   \n",
       "8673  INFP  'I am very conflicted right now when it comes ...   \n",
       "8674  INFP  'It has been too long since I have been on per...   \n",
       "\n",
       "      Extrovert/Introvert  Intution/Sensation  Thinking/Feeling  \\\n",
       "0                     0.0                 0.0               1.0   \n",
       "1                     1.0                 0.0               0.0   \n",
       "2                     0.0                 0.0               0.0   \n",
       "3                     0.0                 0.0               0.0   \n",
       "4                     1.0                 0.0               0.0   \n",
       "...                   ...                 ...               ...   \n",
       "8670                  0.0                 1.0               1.0   \n",
       "8671                  1.0                 0.0               1.0   \n",
       "8672                  0.0                 0.0               0.0   \n",
       "8673                  0.0                 0.0               1.0   \n",
       "8674                  0.0                 0.0               1.0   \n",
       "\n",
       "      Perception/Judgement                                    processed posts  \n",
       "0                      1.0   moment sportscenter top ten play prank life c...  \n",
       "1                      0.0   finding lack post alarming sex boring positio...  \n",
       "2                      0.0   good one course say know blessing curse absol...  \n",
       "3                      1.0   dear enjoyed conversation day esoteric gabbin...  \n",
       "4                      1.0   fired another silly misconception approaching...  \n",
       "...                    ...                                                ...  \n",
       "8670                   0.0   always think cat fi doms reason website becom...  \n",
       "8671                   0.0   thread already exists someplace else heck del...  \n",
       "8672                   0.0   many question thing would take purple pill pi...  \n",
       "8673                   0.0   conflicted right come wanting child honestly ...  \n",
       "8674                   0.0   long since personalitycafe although seem chan...  \n",
       "\n",
       "[8675 rows x 7 columns]"
      ]
     },
     "execution_count": 14,
     "metadata": {},
     "output_type": "execute_result"
    }
   ],
   "source": [
    "myersBrigs_df"
   ]
  },
  {
   "attachments": {},
   "cell_type": "markdown",
   "metadata": {},
   "source": [
    "## Feature Selection"
   ]
  },
  {
   "cell_type": "code",
   "execution_count": 15,
   "metadata": {},
   "outputs": [],
   "source": [
    "# Using CountVectorizer we are converting the posts into a matrix \n",
    "\n",
    "def setProcessList():\n",
    "    # list holding the verctorized processed posts\n",
    "    processedPosts_list = []\n",
    "\n",
    "    # loop through every item for processed posts and append to the list\n",
    "    # i is the index value of the table and j is the processed posts text\n",
    "    for i, j in myersBrigs_df[\"processed posts\"].iteritems():\n",
    "        \n",
    "        #print(\"The value of I is: \")\n",
    "        #print(i)\n",
    "        \n",
    "        #print(\"The value of J is: \")\n",
    "        #print(j)\n",
    "        \n",
    "        # append the processed list text in the list\n",
    "        processedPosts_list.append(j)\n",
    "        \n",
    "    return processedPosts_list"
   ]
  },
  {
   "cell_type": "code",
   "execution_count": 74,
   "metadata": {},
   "outputs": [],
   "source": [
    "def vectorization(input):\n",
    "    # Take the processed post list and convert it to  count vector matrix \n",
    "    vector = CountVectorizer(stop_words=\"english\", max_features = 1500)\n",
    "    vector_features = vector.fit_transform(input)\n",
    "    #print(vector)\n",
    "    #print(vector_features)\n",
    "\n",
    "    # incorporate tf-idf to add weight to the importat words in all processed posts\n",
    "    tf = TfidfTransformer()\n",
    "    tf_vector = tf.fit_transform(vector_features).toarray()\n",
    "    \n",
    "    return tf_vector"
   ]
  },
  {
   "cell_type": "code",
   "execution_count": null,
   "metadata": {},
   "outputs": [],
   "source": [
    "list_input = setProcessList()\n",
    "tf_vector = vectorization(list_input)"
   ]
  },
  {
   "cell_type": "code",
   "execution_count": 75,
   "metadata": {},
   "outputs": [],
   "source": [
    "# rename the tf_vectorized of the processed words into a variable called X_Dataa\n",
    "X_data = tf_vector\n",
    "#print(X_data)\n",
    "\n",
    "# Classify what the Y_Data would be which is the processed_posts, introvert/extrovert, intution/sensation, thinking/feeling, perception/judgement\n",
    "Y_data = myersBrigs_df.iloc[:, 2:6]\n",
    "#print(Y_data)"
   ]
  },
  {
   "cell_type": "code",
   "execution_count": 17,
   "metadata": {},
   "outputs": [
    {
     "data": {
      "text/plain": [
       "0.0    6676\n",
       "1.0    1999\n",
       "Name: Extrovert/Introvert, dtype: int64"
      ]
     },
     "execution_count": 17,
     "metadata": {},
     "output_type": "execute_result"
    }
   ],
   "source": [
    "Y_data[\"Extrovert/Introvert\"].value_counts()"
   ]
  },
  {
   "cell_type": "code",
   "execution_count": 49,
   "metadata": {},
   "outputs": [
    {
     "data": {
      "text/plain": [
       "I    6676\n",
       "E    1999\n",
       "Name: Introvert/Extrovert, dtype: int64"
      ]
     },
     "execution_count": 49,
     "metadata": {},
     "output_type": "execute_result"
    }
   ],
   "source": [
    "myersBrigs_df['Introvert/Extrovert'].value_counts()"
   ]
  },
  {
   "cell_type": "code",
   "execution_count": 18,
   "metadata": {},
   "outputs": [],
   "source": [
    "# Train and Test set for each column\n",
    "X_train_IE, X_test_IE, Y_train_IE, Y_test_IE = train_test_split(X_data, Y_data['Extrovert/Introvert'], test_size=0.2, stratify=Y_data)\n",
    "X_train_NS, X_test_NS, Y_train_NS, Y_test_NS = train_test_split(X_data, Y_data['Intution/Sensation'], test_size=0.2, stratify=Y_data)\n",
    "X_train_TF, X_test_TF, Y_train_TF, Y_test_TF = train_test_split(X_data, Y_data['Thinking/Feeling'], test_size=0.2, stratify=Y_data)\n",
    "X_train_JP, X_test_JP, Y_train_JP, Y_test_JP = train_test_split(X_data, Y_data['Perception/Judgement'], test_size=0.2, stratify=Y_data)"
   ]
  },
  {
   "attachments": {},
   "cell_type": "markdown",
   "metadata": {},
   "source": [
    "## Personaility Prediction Models"
   ]
  },
  {
   "attachments": {},
   "cell_type": "markdown",
   "metadata": {},
   "source": [
    "### Support Vector Model\n",
    "Takes 11 mins to run the model not optimal for the app, accuracy is higher then Naive Bayes though"
   ]
  },
  {
   "cell_type": "code",
   "execution_count": 19,
   "metadata": {},
   "outputs": [],
   "source": [
    "# To train the model we are using a Support Vector Model, for each personaility category\n",
    "\n",
    "#Extrovert or Introvert prediction\n",
    "svm1 = SVC(random_state=123, probability=True)\n",
    "svm1.fit(X_train_IE,Y_train_IE)\n",
    "ypredIE = svm1.predict(X_test_IE)\n",
    "\n",
    "#Sensation or Intituion prediction\n",
    "svm2 = SVC(random_state=123, probability=True)\n",
    "svm2.fit(X_train_NS,Y_train_NS)\n",
    "ypredNS = svm2.predict(X_test_NS)\n",
    "\n",
    "#Thinking or Feeling prediction\n",
    "svm3 = SVC(random_state=123, probability=True)\n",
    "svm3.fit(X_train_TF,Y_train_TF)\n",
    "ypredTF = svm3.predict(X_test_TF)\n",
    "\n",
    "#Judgement or Perception prediction\n",
    "svm4 = SVC(random_state=123, probability=True)\n",
    "svm4.fit(X_train_JP,Y_train_JP)\n",
    "ypredJP = svm4.predict(X_test_JP)\n"
   ]
  },
  {
   "cell_type": "code",
   "execution_count": 20,
   "metadata": {},
   "outputs": [
    {
     "data": {
      "text/plain": [
       "7061    0.0\n",
       "1272    0.0\n",
       "3912    1.0\n",
       "2183    0.0\n",
       "5647    0.0\n",
       "       ... \n",
       "7796    0.0\n",
       "2167    1.0\n",
       "340     1.0\n",
       "4550    0.0\n",
       "884     0.0\n",
       "Name: Perception/Judgement, Length: 1735, dtype: float64"
      ]
     },
     "execution_count": 20,
     "metadata": {},
     "output_type": "execute_result"
    }
   ],
   "source": [
    "Y_test_JP"
   ]
  },
  {
   "cell_type": "code",
   "execution_count": 72,
   "metadata": {},
   "outputs": [
    {
     "data": {
      "text/plain": [
       "1.0"
      ]
     },
     "execution_count": 72,
     "metadata": {},
     "output_type": "execute_result"
    }
   ],
   "source": [
    "ypredJP[4]"
   ]
  },
  {
   "attachments": {},
   "cell_type": "markdown",
   "metadata": {},
   "source": [
    "### Naive Bayes"
   ]
  },
  {
   "cell_type": "code",
   "execution_count": 46,
   "metadata": {},
   "outputs": [],
   "source": [
    "from sklearn.naive_bayes import GaussianNB\n",
    "from sklearn.model_selection import GridSearchCV"
   ]
  },
  {
   "cell_type": "code",
   "execution_count": 81,
   "metadata": {},
   "outputs": [],
   "source": [
    "# Creating a model prediction with 4 models for each category \n",
    "\n",
    "def modelPrediction(m1, m2, m3, m4):\n",
    "    \n",
    "    # Predict if they are an extrovert or introvert\n",
    "    ypredEI=m1.fit(X_train_IE,Y_train_IE).best_estimator_.predict(X_test_IE)\n",
    "    \n",
    "    # Predict if they are an intution or sensation\n",
    "    ypredIS=m2.fit(X_train_NS,Y_train_NS).best_estimator_.predict(X_test_NS)\n",
    "\n",
    "    # Predict if they are thinking or feeling\n",
    "    ypredTF=m3.fit(X_train_TF,Y_train_TF).best_estimator_.predict(X_test_TF)\n",
    "\n",
    "    # Predict if they are perception or judgement\n",
    "    ypredPF=m4.fit(X_train_JP,Y_train_JP).best_estimator_.predict(X_test_JP)\n",
    "    \n",
    "    return ypredEI, ypredIS, ypredPF, ypredTF"
   ]
  },
  {
   "cell_type": "code",
   "execution_count": 82,
   "metadata": {},
   "outputs": [],
   "source": [
    "#Naive Bayes Model\n",
    "naivegb=GaussianNB()\n",
    "\n",
    "\n",
    "#Apply stratified cross validation\n",
    "grid1=GridSearchCV(naivegb,{},cv=5)\n",
    "grid2=GridSearchCV(naivegb,{},cv=5)\n",
    "grid3=GridSearchCV(naivegb,{},cv=5)\n",
    "grid4=GridSearchCV(naivegb,{},cv=5)\n",
    "\n",
    "\n",
    "#prediction\n",
    "ypredIE, ypredNS, ypredTF, ypredJP= modelPrediction(grid1, grid2, grid3, grid4)"
   ]
  },
  {
   "cell_type": "code",
   "execution_count": 83,
   "metadata": {},
   "outputs": [
    {
     "data": {
      "text/plain": [
       "array([0., 0., 0., 0., 0., 0.])"
      ]
     },
     "execution_count": 83,
     "metadata": {},
     "output_type": "execute_result"
    }
   ],
   "source": [
    "ypredNS"
   ]
  },
  {
   "cell_type": "code",
   "execution_count": 84,
   "metadata": {},
   "outputs": [
    {
     "data": {
      "text/plain": [
       "array([0., 0., 0., 0., 0., 0.])"
      ]
     },
     "execution_count": 84,
     "metadata": {},
     "output_type": "execute_result"
    }
   ],
   "source": [
    "ypredIE"
   ]
  },
  {
   "cell_type": "code",
   "execution_count": 79,
   "metadata": {},
   "outputs": [],
   "source": [
    "# How will we predict the user's personality ?\n",
    "# By having an array called test_input where indexes 0 - 4 are training data from the myers briggs dataframe and index 5 is the user's input we are are predicting \n",
    "# These examples have to be pre-processed \n",
    "\n",
    "test_input = []\n",
    "\n",
    "# NEED 4 training posts and 1 testing\n",
    "test_input.append(myersBrigs_df.iloc[0][\"posts\"])\n",
    "test_input.append(myersBrigs_df.iloc[1][\"posts\"])\n",
    "test_input.append(myersBrigs_df.iloc[2][\"posts\"])\n",
    "test_input.append(myersBrigs_df.iloc[3][\"posts\"])\n",
    "test_input.append(myersBrigs_df.iloc[4][\"posts\"])\n",
    "test_input.append(myersBrigs_df.iloc[5][\"posts\"])\n",
    "\n",
    "# Vectorize this array to be 0 and 1 in a matrix\n",
    "test_tf_vector = vectorization(test_input)\n",
    "test_x_data = test_tf_vector"
   ]
  }
 ],
 "metadata": {
  "kernelspec": {
   "display_name": "Python 3",
   "language": "python",
   "name": "python3"
  },
  "language_info": {
   "codemirror_mode": {
    "name": "ipython",
    "version": 3
   },
   "file_extension": ".py",
   "mimetype": "text/x-python",
   "name": "python",
   "nbconvert_exporter": "python",
   "pygments_lexer": "ipython3",
   "version": "3.10.6"
  },
  "orig_nbformat": 4
 },
 "nbformat": 4,
 "nbformat_minor": 2
}
